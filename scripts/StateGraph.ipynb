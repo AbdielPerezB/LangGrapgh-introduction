{
 "cells": [
  {
   "cell_type": "code",
   "execution_count": 1,
   "metadata": {},
   "outputs": [],
   "source": [
    "from langchain_core.runnables import RunnableConfig\n",
    "from typing_extensions import Annotated, TypedDict\n",
    "from langgraph.checkpoint.memory import MemorySaver\n",
    "from langgraph.graph import StateGraph\n"
   ]
  },
  {
   "cell_type": "code",
   "execution_count": 5,
   "metadata": {},
   "outputs": [],
   "source": [
    "def reducer(a:list, b: int | None) -> list:\n",
    "    if b is not None:\n",
    "        return a + [b]\n",
    "    return a\n",
    "\n",
    "class State(TypedDict):\n",
    "    x: Annotated[list, reducer]\n",
    "\n",
    "class ConfigSchema(TypedDict):\n",
    "    r:float\n",
    "\n",
    "graph = StateGraph(State, config_schema=ConfigSchema)\n",
    "\n",
    "def node(state: State, config: RunnableConfig) -> dict:\n",
    "    r = config[\"configurable\"].get(\"r\", 1.0)\n",
    "    x = state[\"x\"][-1]\n",
    "    next_value = x * r * (1 - x)\n",
    "    return {\"x\": next_value}\n",
    "\n",
    "graph.add_node(\"A\", node)\n",
    "graph.set_entry_point(\"A\")\n",
    "graph.set_finish_point(\"A\")\n",
    "compiled = graph.compile()"
   ]
  },
  {
   "cell_type": "code",
   "execution_count": 12,
   "metadata": {},
   "outputs": [
    {
     "data": {
      "image/png": "[encoded data removed]",
      "text/plain": [
       "<IPython.core.display.Image object>"
      ]
     },
     "metadata": {},
     "output_type": "display_data"
    }
   ],
   "source": [
    "from IPython.display import Image, display\n",
    "\n",
    "try:\n",
    "    display(Image(compiled.get_graph().draw_mermaid_png()))\n",
    "except Exception:\n",
    "    # This requires some extra dependencies and is optional\n",
    "    pass"
   ]
  },
  {
   "cell_type": "code",
   "execution_count": 13,
   "metadata": {},
   "outputs": [
    {
     "name": "stdout",
     "output_type": "stream",
     "text": [
      "[ConfigurableFieldSpec(id='r', annotation=<class 'float'>, name=None, description=None, default=None, is_shared=False, dependencies=None)]\n"
     ]
    }
   ],
   "source": [
    "print(compiled.config_specs)"
   ]
  },
  {
   "cell_type": "code",
   "execution_count": 6,
   "metadata": {},
   "outputs": [
    {
     "name": "stdout",
     "output_type": "stream",
     "text": [
      "{'x': [0.5, 0.75]}\n"
     ]
    }
   ],
   "source": [
    "step1 = compiled.invoke({\"x\":0.5}, {\"configurable\": {\"r\": 3.0}})\n",
    "print(step1)"
   ]
  }
 ],
 "metadata": {
  "kernelspec": {
   "display_name": "langg-int",
   "language": "python",
   "name": "python3"
  },
  "language_info": {
   "codemirror_mode": {
    "name": "ipython",
    "version": 3
   },
   "file_extension": ".py",
   "mimetype": "text/x-python",
   "name": "python",
   "nbconvert_exporter": "python",
   "pygments_lexer": "ipython3",
   "version": "3.13.0"
  }
 },
 "nbformat": 4,
 "nbformat_minor": 2
}
