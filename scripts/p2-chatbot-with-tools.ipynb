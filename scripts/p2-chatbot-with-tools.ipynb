{
 "cells": [
  {
   "cell_type": "markdown",
   "metadata": {},
   "source": [
    "## Part 2: Enhancing the chatbot with tools\n",
    "Let's integrate a web search tool."
   ]
  },
  {
   "cell_type": "code",
   "execution_count": 22,
   "metadata": {},
   "outputs": [
    {
     "data": {
      "text/plain": [
       "[{'url': 'https://sbvindustriales.com/product/csp-a390/',\n",
       "  'content': 'CSP-A390 – sbvindustriales Home\\xa0/\\xa0Extractores y Ventiladores\\xa0/\\xa0CSP-A390 CSP-A390 VENTILADOR EN LINEA MARCA GREENHECK, MODELO CSP-A390 PARA 412 CFM@0 IN.WG, MOTOR ODP DE 115V/1F/60HZ. •Motor rated for continuous use •Motor with 40 Degree C Ambient Temperature CSP-A390 quantity  Add to cart SKU: CSP-A390 Category: Extractores y Ventiladores Tags: exhaust, extractor, greenheck, HVAC VENTILADOR EN LINEA MARCA GREENHECK, MODELO CSP-A390 PARA 412 CFM@0 IN.WG, MOTOR ODP DE 115V/1F/60HZ. •Motor rated for continuous use •Motor with 40 Degree C Ambient Temperature Email\\xa0* Save my name, email, and website in this browser for the next time I comment. SP-B200 ------- $195.98 Add to cart CUBE-160-10 ----------- $1,545.18 Add to cart SP-B110 ------- $138.34 Add to cart CUBE-100-3 ---------- $1,207.77 Add to cart'},\n",
       " {'url': 'https://www.systemair.com/es-mx/productos/ventiladores/ventiladores-de-conducto/ventiladores-de-conducto-circular/kd',\n",
       "  'content': 'KD Ventiladores de conducto circular · Systemair Los ventiladores KD están pensados para su uso en impulsión o extracción de aire, y diseñados para instalarse en cualquier posición. La serie KD tiene motores de rotor externo con un impulsor de flujo mixto que reduce las dimensiones de los ventiladores y tienen un alto rendimiento en relación con su diseño compacto. La carcasa de acero galvanizado de los ventiladores KD permite su uso en exteriores e interiores . La construcción del motor garantiza minimizar la necesidad de mantenimiento de los ventiladores y permite un funcionamiento fiable durante mucho tiempo . Los ventiladores KD tienen contactos térmicos integrados con derivaciones a un dispositivo externo de protección del motor. Los ventiladores KD pueden instalarse en cualquier posición en interiores y exteriores.'}]"
      ]
     },
     "execution_count": 22,
     "metadata": {},
     "output_type": "execute_result"
    }
   ],
   "source": [
    "from langchain_community.tools.tavily_search import TavilySearchResults\n",
    "from langchain.utilities.tavily_search import TavilySearchAPIWrapper\n",
    "from configuracion import TAVILY_API_KEY\n",
    "\n",
    "tavilySearchAPIWrapper = TavilySearchAPIWrapper(tavily_api_key=TAVILY_API_KEY)\n",
    "tool = TavilySearchResults(\n",
    "    api_wrapper=tavilySearchAPIWrapper,\n",
    "    max_results=2)\n",
    "tool.invoke(\"ventilador inyección en línea conducto circular 390 CFM presión 1.30 in potencia 273.6W 115V dimensiones 397x381x397 mm\")\n"
   ]
  },
  {
   "cell_type": "code",
   "execution_count": 16,
   "metadata": {},
   "outputs": [
    {
     "data": {
      "text/plain": [
       "<langgraph.graph.state.StateGraph at 0x2200101dba0>"
      ]
     },
     "execution_count": 16,
     "metadata": {},
     "output_type": "execute_result"
    }
   ],
   "source": [
    "from typing import Annotated\n",
    "from langchain_google_vertexai import ChatVertexAI\n",
    "from typing_extensions import TypedDict\n",
    "from configuracion import MODEL_GEMINI, GCP_PROJECT_ID, GCP_REGION, scoped_creds\n",
    "\n",
    "from langgraph.graph import StateGraph, START, END\n",
    "from langgraph.graph.message import add_messages\n",
    "\n",
    "tools = [tool]\n",
    "\n",
    "class State(TypedDict):\n",
    "    messages: Annotated[list, add_messages]\n",
    "\n",
    "graph_builder = StateGraph(State)\n",
    "\n",
    "model = ChatVertexAI(\n",
    "                model_name=MODEL_GEMINI,\n",
    "                project=GCP_PROJECT_ID,\n",
    "                location=GCP_REGION,\n",
    "                credentials=scoped_creds,\n",
    "                max_output_tokens=8192,\n",
    "                temperature=0.2,\n",
    "        )\n",
    "llm_with_tools = model.bind_tools(tools)\n",
    "\n",
    "def chatbot(state: State):\n",
    "    return {\"messages\": [llm_with_tools.invoke(state[\"messages\"])]}\n",
    "\n",
    "graph_builder.add_node(\"chatbot\", chatbot)\n"
   ]
  },
  {
   "cell_type": "markdown",
   "metadata": {},
   "source": [
    "Next we need to create a function to actually run the tools if they are called. We'll do this by adding the tools toa  new node\n",
    "\n",
    "Below, we implement a *BasicToolNode* taht checks the most recent message in the state and calls tools if the message contains tool_calls. It relies on the LLM's tool_calling support, which is available in Antropic, OpenAI, Gemini and a number of ther LLM providers.\n",
    "\n",
    "We will later replace this with LangGraph's prebuilt **[ToolNode](https://langchain-ai.github.io/langgraph/reference/prebuilt/#toolnode)** to speed things up, but building it ourselves first is instructive."
   ]
  },
  {
   "cell_type": "code",
   "execution_count": 8,
   "metadata": {},
   "outputs": [
    {
     "data": {
      "text/plain": [
       "<langgraph.graph.state.StateGraph at 0x2207ff30550>"
      ]
     },
     "execution_count": 8,
     "metadata": {},
     "output_type": "execute_result"
    }
   ],
   "source": [
    "import json\n",
    "from langchain_core.messages import ToolMessage\n",
    "\n",
    "class BasicToolNode:\n",
    "    \"\"\"A node that runs the tools requested in the last AIMessage\"\"\"\n",
    "    def __init__(self, tools: list) -> None:\n",
    "        self.tools_by_name = {tool.name: tool for tool in tools}\n",
    "\n",
    "    def __call__ (self, inputs:dict):\n",
    "        if messages := inputs.get(\"messages\", []):#En python una lista vacía se evalua como False\n",
    "            message = messages[-1]\n",
    "        else:\n",
    "            raise ValueError(\"No message found in input\")\n",
    "        outputs = []\n",
    "        for tool_call in message.tool_calls:\n",
    "            tool_result = self.tools_by_name[tool_call[\"name\"]].invoke(\n",
    "                tool_call[\"args\"]\n",
    "            )\n",
    "            outputs.append(\n",
    "                ToolMessage(\n",
    "                    content=json.dumps(tool_result),\n",
    "                    name= tool_call[\"name\"],\n",
    "                    tool_call_id= tool_call[\"id\"]\n",
    "                )\n",
    "            )\n",
    "        return {\"messages\": outputs}\n",
    "\n",
    "tool_node = BasicToolNode(tools=[tool])\n",
    "graph_builder.add_node(\"tools\", tool_node)"
   ]
  },
  {
   "cell_type": "code",
   "execution_count": 9,
   "metadata": {},
   "outputs": [],
   "source": [
    "from typing import Literal\n",
    "def route_tools(state: State):\n",
    "    \"\"\"\n",
    "    Use in the conditional_edge to route to the ToolNode if the last\n",
    "    message has a tool calls. Otherwise, route to the end.\n",
    "    \"\"\"\n",
    "    if isinstance(state, list):\n",
    "        ai_message = state[-1]\n",
    "    elif messages := state.get(\"messages\", []):\n",
    "        ai_message = messages[-1]\n",
    "    else:\n",
    "        raise ValueError(f\"no messages found in input state to tool_edge: {state}\")\n",
    "    if hasattr(ai_message, \"tool_calls\") and len(ai_message.tool_calls) > 0:\n",
    "        return \"tools\"\n",
    "    return END\n",
    "\n",
    "#The tools_condition function return \"tools\" if the chatbot asks to use a tool, and \"END\" if\n",
    "#it's fine directly responding. This conditional routing  defines the main agent loop\n",
    "\n",
    "graph_builder.add_conditional_edges(\n",
    "    \"chatbot\",\n",
    "    route_tools,\n",
    "    # The following dictionary lets you tell the graph to interpret the condition's outputs as a specific node\n",
    "    # It defaults to the identity function, but if you\n",
    "    # want to use a node named something else apart from \"tools\",\n",
    "    # You can update the value of the dictionary to something else\n",
    "    # e.g., \"tools\": \"my_tools\"\n",
    "    {\"tools\": \"tools\", END: END}\n",
    ")\n",
    "\n",
    "#aAny time a tools is called, we return to the chatbot to decide the next step\n",
    "graph_builder.add_edge(\"tools\", \"chatbot\")\n",
    "graph_builder.add_edge(START, \"chatbot\")\n",
    "graph = graph_builder.compile()"
   ]
  },
  {
   "cell_type": "code",
   "execution_count": 10,
   "metadata": {},
   "outputs": [
    {
     "data": {
      "image/png": "[encoded data removed]",
      "text/plain": [
       "<IPython.core.display.Image object>"
      ]
     },
     "metadata": {},
     "output_type": "display_data"
    }
   ],
   "source": [
    "from IPython.display import Image, display\n",
    "\n",
    "try:\n",
    "    display(Image(graph.get_graph().draw_mermaid_png()))\n",
    "except Exception:\n",
    "    # This requires some extra dependencies and is optional\n",
    "    pass"
   ]
  },
  {
   "cell_type": "code",
   "execution_count": 12,
   "metadata": {},
   "outputs": [],
   "source": [
    "def stream_graph_updates(user_input: str):\n",
    "    for event in graph.stream({\"messages\":[(\"user\", user_input)]}):\n",
    "        for value in event.values():\n",
    "            print(\"Assistant:\", value[\"messages\"][-1].content)"
   ]
  },
  {
   "cell_type": "code",
   "execution_count": 13,
   "metadata": {},
   "outputs": [
    {
     "name": "stdout",
     "output_type": "stream",
     "text": [
      "Assistant: Lo siento, no tengo información sobre \"LangGraph\". No puedo proporcionar una definición o descripción de este término. \n",
      "\n",
      "Assistant: \n",
      "Assistant: [{\"url\": \"https://blockchain.news/news/langchain-new-features-upcoming-events-update\", \"content\": \"LangChain, a leading platform in the AI development space, has released its latest updates, showcasing new use cases and enhancements across its ecosystem. According to the LangChain Blog, the updates cover advancements in LangGraph Cloud, LangSmith's self-improving evaluators, and revamped documentation for LangGraph.\"}, {\"url\": \"https://blockchain.news/news/langchain-unveils-langgraph-platform\", \"content\": \"News Bitcoin News Ethereum News Web3 News AI AI News ChatGPT News AI Image NSFW AI NSFW AI Image Generator All NSFW AI AI Text AI Search AI Agent LangChain Unveils LangGraph Platform with Enhanced Deployment Options - Blockchain.News LangChain Unveils LangGraph Platform with Enhanced Deployment Options LangChain introduces LangGraph Platform, offering various deployment options for scalable agent infrastructure, including self-hosted and cloud solutions, to meet diverse developer needs. This move introduces multiple deployment options, enhancing the original LangGraph Cloud launched earlier this year, according to LangChain's official blog. Developers interested in exploring the LangGraph Platform can start with the Self-Hosted Lite version or opt for the Cloud SaaS version for broader accessibility. ai infrastructure AI Search AI Search ChatGPT News\"}]\n",
      "Assistant: I found some news articles about LangChain, which is a platform for building AI applications. It seems they recently released updates to their LangGraph Cloud, LangSmith, and documentation. You can find more information on the LangChain blog. \n",
      "\n",
      "Assistant: \n",
      "Assistant: [{\"url\": \"https://www.bestbuy.com/site/searchpage.jsp?id=pcat17071&st=laptop+i7+processor+16gb+ram+1tb+ssd\", \"content\": \"Shop for laptop i7 processor 16gb ram 1tb ssd at Best Buy. Find low everyday prices and buy online for delivery or in-store pick-up. ... HP - Spectre 3-in-1 17\\\" 2.5K OLED Touch-Screen Foldable Laptop - Intel Evo Platform - Core i7 - 16GB Memory - 1TB SSD - Slate Blue. Model: 845B7UA#ABA. SKU: 6553048. Rating 4.5 out of 5 stars with 33 reviews\"}, {\"url\": \"https://www.hp.com/us-en/shop/vwa/i7-16gb-ram-1tb-laptop/proc=Intel-Core-i7;mem=16-GB;stor=1-TB\", \"content\": \"Shop HP\\u00ae laptops with powerful Intel\\u00ae Core\\u00ae i7 processors, 16GB RAM, and 1TB storage. Find the perfect i7 16GB RAM laptop for your needs at the HP\\u00ae Store. Last Chance - Holiday Gifts ... (up to 5.0 GHz with Intel\\u00ae Turbo Boost Technology, 24 MB L3 cache, 14 cores, 20 threads) 16 GB memory; 1 TB SSD storage 16\\\" diagonal WUXGA display\"}]\n",
      "Assistant: I found some options for you on Best Buy and HP. You can check them out! \n",
      "\n",
      "Assistant: I am sorry, I cannot fulfill this request. I do not have access to real-time information, including shopping options in Mexico. \n",
      "\n",
      "Goodbye!\n"
     ]
    }
   ],
   "source": [
    "#Now we can ask the bot questions outside its training data.\n",
    "while True:\n",
    "    try:\n",
    "        user_input = input(\"User: \")\n",
    "        if user_input.lower() in [\"quit\", \"exit\", \"q\"]:\n",
    "            print(\"Goodbye!\")\n",
    "            break\n",
    "\n",
    "        stream_graph_updates(user_input)\n",
    "    except:\n",
    "        # fallback if input() is not available\n",
    "        user_input = \"What do you know about LangGraph?\"\n",
    "        print(\"User: \" + user_input)\n",
    "        stream_graph_updates(user_input)\n",
    "        break"
   ]
  }
 ],
 "metadata": {
  "kernelspec": {
   "display_name": "langg-int",
   "language": "python",
   "name": "python3"
  },
  "language_info": {
   "codemirror_mode": {
    "name": "ipython",
    "version": 3
   },
   "file_extension": ".py",
   "mimetype": "text/x-python",
   "name": "python",
   "nbconvert_exporter": "python",
   "pygments_lexer": "ipython3",
   "version": "3.13.0"
  }
 },
 "nbformat": 4,
 "nbformat_minor": 2
}
